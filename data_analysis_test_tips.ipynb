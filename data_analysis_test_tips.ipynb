{
 "cells": [
  {
   "cell_type": "markdown",
   "id": "4c13c330",
   "metadata": {},
   "source": [
    "# Data‑Analysis Test – `tips` Dataset\n",
    "Each of the 15 questions below is followed by an empty code cell.\n",
    "Write your solution code in the provided area.\n"
   ]
  },
  {
   "cell_type": "code",
   "execution_count": null,
   "id": "f369174c",
   "metadata": {},
   "outputs": [],
   "source": [
    "import pandas as pd, numpy as np, seaborn as sns\n",
    "import matplotlib.pyplot as plt\n",
    "from scipy import stats\n",
    "import statsmodels.api as sm\n",
    "\n",
    "df = sns.load_dataset('tips')\n",
    "df.head()\n"
   ]
  },
  {
   "cell_type": "markdown",
   "id": "fbb3f480",
   "metadata": {},
   "source": [
    "## Question 1\n",
    "Display the dataframe info (column dtypes and non‑null counts)."
   ]
  },
  {
   "cell_type": "code",
   "execution_count": null,
   "id": "3f772915",
   "metadata": {},
   "outputs": [],
   "source": [
    "# TODO: your code here\n"
   ]
  },
  {
   "cell_type": "markdown",
   "id": "41d76f1b",
   "metadata": {},
   "source": [
    "## Question 2\n",
    "Check for missing values and show the columns with the highest percentage of NaNs."
   ]
  },
  {
   "cell_type": "code",
   "execution_count": null,
   "id": "9814d41f",
   "metadata": {},
   "outputs": [],
   "source": [
    "# TODO: your code here\n"
   ]
  },
  {
   "cell_type": "markdown",
   "id": "deb7cfb8",
   "metadata": {},
   "source": [
    "## Question 3\n",
    "Plot the distribution of `total_bill` and comment on its shape."
   ]
  },
  {
   "cell_type": "code",
   "execution_count": null,
   "id": "4cec1251",
   "metadata": {},
   "outputs": [],
   "source": [
    "# TODO: your code here\n"
   ]
  },
  {
   "cell_type": "markdown",
   "id": "e9f6c41c",
   "metadata": {},
   "source": [
    "## Question 4\n",
    "Compute tip percentage (`tip / total_bill * 100`). Is the mean tip percentage significantly different from 15 %? (one‑sample t‑test)."
   ]
  },
  {
   "cell_type": "code",
   "execution_count": null,
   "id": "ae80df00",
   "metadata": {},
   "outputs": [],
   "source": [
    "# TODO: your code here\n"
   ]
  },
  {
   "cell_type": "markdown",
   "id": "6874e694",
   "metadata": {},
   "source": [
    "## Question 5\n",
    "Test whether `tip` differs between smokers and non‑smokers (two‑sample Welch t‑test)."
   ]
  },
  {
   "cell_type": "code",
   "execution_count": null,
   "id": "cfa1e5a7",
   "metadata": {},
   "outputs": [],
   "source": [
    "# TODO: your code here\n"
   ]
  },
  {
   "cell_type": "markdown",
   "id": "c5c7fc77",
   "metadata": {},
   "source": [
    "## Question 6\n",
    "Investigate the correlation between `total_bill` and `tip` (scatter plot + Pearson r)."
   ]
  },
  {
   "cell_type": "code",
   "execution_count": null,
   "id": "74150341",
   "metadata": {},
   "outputs": [],
   "source": [
    "# TODO: your code here\n"
   ]
  },
  {
   "cell_type": "markdown",
   "id": "6efb4c81",
   "metadata": {},
   "source": [
    "## Question 7\n",
    "Fit a simple linear regression: `tip ~ total_bill`. Show the coefficient table."
   ]
  },
  {
   "cell_type": "code",
   "execution_count": null,
   "id": "73977dc8",
   "metadata": {},
   "outputs": [],
   "source": [
    "# TODO: your code here\n"
   ]
  },
  {
   "cell_type": "markdown",
   "id": "819f3f72",
   "metadata": {},
   "source": [
    "## Question 8\n",
    "Check the normality of residuals from the regression (QQ‑plot + Shapiro‑Wilk test)."
   ]
  },
  {
   "cell_type": "code",
   "execution_count": null,
   "id": "1799face",
   "metadata": {},
   "outputs": [],
   "source": [
    "# TODO: your code here\n"
   ]
  },
  {
   "cell_type": "markdown",
   "id": "d662e3bb",
   "metadata": {},
   "source": [
    "## Question 9\n",
    "Create a pivot table showing the mean tip percentage per `day` and `time`."
   ]
  },
  {
   "cell_type": "code",
   "execution_count": null,
   "id": "67acba65",
   "metadata": {},
   "outputs": [],
   "source": [
    "# TODO: your code here\n"
   ]
  },
  {
   "cell_type": "markdown",
   "id": "24e19524",
   "metadata": {},
   "source": [
    "## Question 10\n",
    "Perform one‑way ANOVA: does `total_bill` differ by `day`?"
   ]
  },
  {
   "cell_type": "code",
   "execution_count": null,
   "id": "df346d1f",
   "metadata": {},
   "outputs": [],
   "source": [
    "# TODO: your code here\n"
   ]
  },
  {
   "cell_type": "markdown",
   "id": "168f2933",
   "metadata": {},
   "source": [
    "## Question 11\n",
    "Estimate 95 % bootstrap CI for the median tip."
   ]
  },
  {
   "cell_type": "code",
   "execution_count": null,
   "id": "342c1c71",
   "metadata": {},
   "outputs": [],
   "source": [
    "# TODO: your code here\n"
   ]
  },
  {
   "cell_type": "markdown",
   "id": "bd45008e",
   "metadata": {},
   "source": [
    "## Question 12\n",
    "Identify outliers in `total_bill` using the IQR rule and list them."
   ]
  },
  {
   "cell_type": "code",
   "execution_count": null,
   "id": "3b4faf8a",
   "metadata": {},
   "outputs": [],
   "source": [
    "# TODO: your code here\n"
   ]
  },
  {
   "cell_type": "markdown",
   "id": "781af4e9",
   "metadata": {},
   "source": [
    "## Question 13\n",
    "Fit both Normal and Log‑Normal distributions to `total_bill` and compare AIC values."
   ]
  },
  {
   "cell_type": "code",
   "execution_count": null,
   "id": "6141a5e9",
   "metadata": {},
   "outputs": [],
   "source": [
    "# TODO: your code here\n"
   ]
  },
  {
   "cell_type": "markdown",
   "id": "0cd2a6ee",
   "metadata": {},
   "source": [
    "## Question 14\n",
    "Create a boxplot of tip percentage across `sex` and interpret the result."
   ]
  },
  {
   "cell_type": "code",
   "execution_count": null,
   "id": "7a8d0e81",
   "metadata": {},
   "outputs": [],
   "source": [
    "# TODO: your code here\n"
   ]
  },
  {
   "cell_type": "markdown",
   "id": "0ef8d7b3",
   "metadata": {},
   "source": [
    "## Question 15\n",
    "Summarize your main insights from analysing the tips dataset in 2‑3 sentences."
   ]
  },
  {
   "cell_type": "code",
   "execution_count": null,
   "id": "cd40da15",
   "metadata": {},
   "outputs": [],
   "source": [
    "# TODO: your code here\n"
   ]
  }
 ],
 "metadata": {},
 "nbformat": 4,
 "nbformat_minor": 5
}
